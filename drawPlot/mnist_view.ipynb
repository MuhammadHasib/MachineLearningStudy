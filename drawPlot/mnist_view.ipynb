{
 "cells": [
  {
   "cell_type": "code",
   "execution_count": 7,
   "metadata": {
    "collapsed": false,
    "scrolled": false
   },
   "outputs": [
    {
     "name": "stdout",
     "output_type": "stream",
     "text": [
      "Extracting ./mnist/data/train-images-idx3-ubyte.gz\n",
      "Extracting ./mnist/data/train-labels-idx1-ubyte.gz\n",
      "Extracting ./mnist/data/t10k-images-idx3-ubyte.gz\n",
      "Extracting ./mnist/data/t10k-labels-idx1-ubyte.gz\n",
      "55000\n",
      "('Y:', array([ 0.,  0.,  0.,  0.,  0.,  0.,  0.,  1.,  0.,  0.]))\n",
      "X:\n"
     ]
    },
    {
     "data": {
      "image/png": "[encoded data removed]",
      "text/plain": [
       "<matplotlib.figure.Figure at 0x7f563c2d7790>"
      ]
     },
     "metadata": {},
     "output_type": "display_data"
    },
    {
     "name": "stdout",
     "output_type": "stream",
     "text": [
      "('Y:', array([ 0.,  0.,  0.,  1.,  0.,  0.,  0.,  0.,  0.,  0.]))\n",
      "X:\n"
     ]
    },
    {
     "data": {
      "image/png": "[encoded data removed]",
      "text/plain": [
       "<matplotlib.figure.Figure at 0x7f563c363c10>"
      ]
     },
     "metadata": {},
     "output_type": "display_data"
    },
    {
     "name": "stdout",
     "output_type": "stream",
     "text": [
      "('Y:', array([ 0.,  0.,  0.,  0.,  1.,  0.,  0.,  0.,  0.,  0.]))\n",
      "X:\n"
     ]
    },
    {
     "data": {
      "image/png": "[encoded data removed]",
      "text/plain": [
       "<matplotlib.figure.Figure at 0x7f5664162cd0>"
      ]
     },
     "metadata": {},
     "output_type": "display_data"
    },
    {
     "name": "stdout",
     "output_type": "stream",
     "text": [
      "('Y:', array([ 0.,  0.,  0.,  0.,  0.,  0.,  1.,  0.,  0.,  0.]))\n",
      "X:\n"
     ]
    },
    {
     "data": {
      "image/png": "[encoded data removed]",
      "text/plain": [
       "<matplotlib.figure.Figure at 0x7f563c3e2c10>"
      ]
     },
     "metadata": {},
     "output_type": "display_data"
    },
    {
     "name": "stdout",
     "output_type": "stream",
     "text": [
      "('Y:', array([ 0.,  1.,  0.,  0.,  0.,  0.,  0.,  0.,  0.,  0.]))\n",
      "X:\n"
     ]
    },
    {
     "data": {
      "image/png": "[encoded data removed]",
      "text/plain": [
       "<matplotlib.figure.Figure at 0x7f5664655d50>"
      ]
     },
     "metadata": {},
     "output_type": "display_data"
    }
   ],
   "source": [
    "# -*- coding: utf-8 -*-\n",
    "import matplotlib\n",
    "%matplotlib inline\n",
    "import matplotlib.pyplot as plt\n",
    "import matplotlib.pyplot as plt1\n",
    "\n",
    "import tensorflow as tf\n",
    "import numpy as np\n",
    "\n",
    "\n",
    "from tensorflow.examples.tutorials.mnist import input_data\n",
    "mnist = input_data.read_data_sets(\"./mnist/data/\", one_hot=True)\n",
    "print(len(mnist.train.labels))\n",
    "\n",
    "\n",
    "#for i in range(len(mnist.train.labels)):\n",
    "for i in range(5):\n",
    "    print(\"Y:\",mnist.train.labels[i])\n",
    "    #print mnist.train.labels\n",
    "    #print mnist.train.images\n",
    "    \n",
    "    aaaaa=mnist.train.images[i].reshape(28,28)\n",
    "    plt1.figure(figsize=(1,1))\n",
    "    plt1.imshow(aaaaa, cmap=plt1.get_cmap('gray'), interpolation='none')\n",
    "    plt1.axis('off')\n",
    "    print(\"X:\")\n",
    "    plt1.show()\n",
    "\n"
   ]
  }
 ],
 "metadata": {
  "kernelspec": {
   "display_name": "Python 2",
   "language": "python",
   "name": "python2"
  },
  "language_info": {
   "codemirror_mode": {
    "name": "ipython",
    "version": 2
   },
   "file_extension": ".py",
   "mimetype": "text/x-python",
   "name": "python",
   "nbconvert_exporter": "python",
   "pygments_lexer": "ipython2",
   "version": "2.7.6"
  }
 },
 "nbformat": 4,
 "nbformat_minor": 0
}
