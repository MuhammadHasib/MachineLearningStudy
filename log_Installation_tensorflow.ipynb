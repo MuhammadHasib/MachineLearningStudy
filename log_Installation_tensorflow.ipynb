{
 "cells": [
  {
   "cell_type": "markdown",
   "metadata": {},
   "source": [
    "$ docker run -it -p 8888:8888 -p 6006:6006 gcr.io/tensorflow/tensorflow:latest-devel /run_jupyter.sh\n",
    "\n",
    "Run notebooks Python 2\n",
    "# tensorboard --logdir=/tmp/tensorflow_logs/ --port 6006\n",
    "\n",
    "export TF_BINARY_URL=https://ci.tensorflow.org/view/Nightly/job/nightly-matrix-cpu/TF_BUILD_CONTAINER_TYPE=CPU,TF_BUILD_IS_OPT=OPT,TF_BUILD_IS_PIP=PIP,TF_BUILD_PYTHON_VERSION=PYTHON2,label=cpu-slave/lastSuccessfulBuild/artifact/pip_test/whl/tensorflow-0.10.0rc0-cp27-none-linux_x86_64.whl\n",
    "sudo pip install --upgrade $TF_BINARY_URL\n",
    "\n",
    "python -c \"import tensorflow.contrib.slim as slim; eval = slim.evaluation.evaluate_once\"\n",
    "\n",
    "ipython을 업데이트를 해야함.\n",
    "apt-get install ipython         \n",
    "\n",
    "pip install jupyter_contrib_nbextensions\n",
    "\n",
    "￼"
   ]
  }
 ],
 "metadata": {
  "kernelspec": {
   "display_name": "Python 2",
   "language": "python",
   "name": "python2"
  },
  "language_info": {
   "codemirror_mode": {
    "name": "ipython",
    "version": 2
   },
   "file_extension": ".py",
   "mimetype": "text/x-python",
   "name": "python",
   "nbconvert_exporter": "python",
   "pygments_lexer": "ipython2",
   "version": "2.7.6"
  }
 },
 "nbformat": 4,
 "nbformat_minor": 0
}
